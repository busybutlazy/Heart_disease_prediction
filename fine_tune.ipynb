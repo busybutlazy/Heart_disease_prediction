{
 "cells": [
  {
   "cell_type": "code",
   "execution_count": 31,
   "metadata": {},
   "outputs": [],
   "source": [
    "import torch\n",
    "import torch.nn as nn\n",
    "import torch.optim as optim\n",
    "import numpy as np\n",
    "from sklearn.model_selection import train_test_split\n",
    "from sklearn.preprocessing import StandardScaler\n",
    "from torch.utils.data import DataLoader , TensorDataset"
   ]
  },
  {
   "cell_type": "code",
   "execution_count": 32,
   "metadata": {},
   "outputs": [],
   "source": [
    "class MLPModel(nn.Module):\n",
    "    def __init__(self,input_size,hidden_size,output_size):\n",
    "        super(MLPModel,self).__init__()\n",
    "        self.fc1=nn.Linear(input_size,hidden_size)\n",
    "        self.relu=nn.ReLU()\n",
    "        self.fc2=nn.Linear(hidden_size,hidden_size)\n",
    "        self.fc3=nn.Linear(hidden_size,hidden_size)\n",
    "        self.fc4=nn.Linear(hidden_size,output_size)\n",
    "    \n",
    "    def forward(self,x):\n",
    "        x=self.fc1(x)\n",
    "        x=self.relu(x)\n",
    "        x=self.fc2(x)\n",
    "        x=self.relu(x)\n",
    "        x=self.fc3(x)\n",
    "        x=self.relu(x)\n",
    "        x=self.fc4(x)\n",
    "        return x\n",
    "    \n"
   ]
  },
  {
   "cell_type": "code",
   "execution_count": 33,
   "metadata": {},
   "outputs": [],
   "source": [
    "input_size=13\n",
    "hidden_size=20\n",
    "output_size=1"
   ]
  },
  {
   "cell_type": "code",
   "execution_count": 37,
   "metadata": {},
   "outputs": [
    {
     "name": "stderr",
     "output_type": "stream",
     "text": [
      "/tmp/ipykernel_6336/2615247793.py:2: FutureWarning: You are using `torch.load` with `weights_only=False` (the current default value), which uses the default pickle module implicitly. It is possible to construct malicious pickle data which will execute arbitrary code during unpickling (See https://github.com/pytorch/pytorch/blob/main/SECURITY.md#untrusted-models for more details). In a future release, the default value for `weights_only` will be flipped to `True`. This limits the functions that could be executed during unpickling. Arbitrary objects will no longer be allowed to be loaded via this mode unless they are explicitly allowlisted by the user via `torch.serialization.add_safe_globals`. We recommend you start setting `weights_only=True` for any use case where you don't have full control of the loaded file. Please open an issue on GitHub for any issues related to this experimental feature.\n",
      "  pretrain_model.load_state_dict(torch.load(\"pretrained_model_ver2.pth\"))\n"
     ]
    },
    {
     "data": {
      "text/plain": [
       "<All keys matched successfully>"
      ]
     },
     "execution_count": 37,
     "metadata": {},
     "output_type": "execute_result"
    }
   ],
   "source": [
    "pretrain_model=MLPModel(input_size,hidden_size,output_size)\n",
    "pretrain_model.load_state_dict(torch.load(\"pretrained_model_ver2.pth\"))"
   ]
  },
  {
   "cell_type": "code",
   "execution_count": 39,
   "metadata": {},
   "outputs": [],
   "source": [
    "test=torch.tensor([[ 0.2873,  0.6671, -0.9972, -0.0906, -2.3156, -0.4130,  0.6554, -1.4849,\n",
    "          1.4234,  0.1130, -0.6723,  0.2487,  0.2732],\n",
    "        [ 1.1723, -1.4991,  0.5615,  1.6178,  2.2789, -0.4130, -0.9280,  0.0746,\n",
    "         -0.7025, -0.2311,  0.9366, -0.7268, -0.5216],\n",
    "        [ 2.3892, -1.4991,  0.5615,  0.4789, -0.9914, -0.4130,  2.2387, -1.4416,\n",
    "         -0.7025,  0.0270, -0.6723, -0.7268, -0.5216],\n",
    "        [-1.3720, -1.4991,  2.1202, -1.6850,  0.3729, -0.4130,  2.2387, -1.1816,\n",
    "         -0.7025, -0.4031,  0.9366, -0.7268,  0.2732],\n",
    "        [ 1.2829,  0.6671,  2.1202, -1.1156, -0.6905, -0.4130,  2.2387, -0.7484,\n",
    "          1.4234, -0.8332, -0.6723,  0.2487,  0.2732]])"
   ]
  },
  {
   "cell_type": "code",
   "execution_count": 41,
   "metadata": {},
   "outputs": [],
   "source": [
    "test_label=torch.tensor([[0.],\n",
    "        [1.],\n",
    "        [1.],\n",
    "        [0.],\n",
    "        [1.]])"
   ]
  },
  {
   "cell_type": "code",
   "execution_count": 42,
   "metadata": {},
   "outputs": [
    {
     "name": "stdout",
     "output_type": "stream",
     "text": [
      "Test accuracy : 1.0\n"
     ]
    }
   ],
   "source": [
    "with torch.no_grad():\n",
    "    pretrain_model.eval()\n",
    "    y_pred = pretrain_model(test)\n",
    "    y_pred_label = (torch.sigmoid(y_pred)>0.5).float()\n",
    "    accuracy = (y_pred_label == test_label).float().mean()\n",
    "    print(f\"Test accuracy : {accuracy}\")"
   ]
  },
  {
   "cell_type": "code",
   "execution_count": null,
   "metadata": {},
   "outputs": [],
   "source": []
  }
 ],
 "metadata": {
  "kernelspec": {
   "display_name": "Python 3 (ipykernel)",
   "language": "python",
   "name": "python3"
  },
  "language_info": {
   "codemirror_mode": {
    "name": "ipython",
    "version": 3
   },
   "file_extension": ".py",
   "mimetype": "text/x-python",
   "name": "python",
   "nbconvert_exporter": "python",
   "pygments_lexer": "ipython3",
   "version": "3.11.10"
  }
 },
 "nbformat": 4,
 "nbformat_minor": 2
}
